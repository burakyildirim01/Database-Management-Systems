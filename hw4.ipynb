{
 "cells": [
  {
   "cell_type": "markdown",
   "metadata": {},
   "source": [
    "# Homework 4"
   ]
  },
  {
   "cell_type": "markdown",
   "metadata": {},
   "source": [
    "## Mysql-Python Connection"
   ]
  },
  {
   "cell_type": "code",
   "execution_count": 1,
   "metadata": {},
   "outputs": [],
   "source": [
    "import mysql.connector\n",
    "import pandas as pd\n",
    "\n",
    "import matplotlib.pyplot as plt\n",
    "import matplotlib.ticker as plticker\n",
    "import seaborn as sns\n",
    "import csv\n",
    "\n",
    "%matplotlib inline"
   ]
  },
  {
   "cell_type": "code",
   "execution_count": 2,
   "metadata": {},
   "outputs": [
    {
     "name": "stdout",
     "output_type": "stream",
     "text": [
      "<mysql.connector.connection.MySQLConnection object at 0x7fd33fde42e0>\n"
     ]
    }
   ],
   "source": [
    "db_connection = mysql.connector.connect(\n",
    "  host=\"localhost\",\n",
    "  user=\"root\",\n",
    "  passwd=\"wwdc2019\", # change password\n",
    "  auth_plugin='mysql_native_password'\n",
    ")\n",
    "print(db_connection)"
   ]
  },
  {
   "cell_type": "code",
   "execution_count": 3,
   "metadata": {},
   "outputs": [
    {
     "name": "stdout",
     "output_type": "stream",
     "text": [
      "('information_schema',)\n",
      "('mysql',)\n",
      "('performance_schema',)\n",
      "('ps_ecommerce',)\n",
      "('sys',)\n",
      "('world',)\n"
     ]
    }
   ],
   "source": [
    "# creating database_cursor to perform SQL operation to run queries\n",
    "db_cursor = db_connection.cursor(buffered=True)\n",
    "\n",
    "# executing cursor with execute method and pass SQL query\n",
    "#db_cursor.execute(\"CREATE DATABASE ps_ecommerce\")\n",
    "\n",
    "# get list of all databases\n",
    "db_cursor.execute(\"SHOW DATABASES\")\n",
    "\n",
    "# print all databases\n",
    "for db in db_cursor:\n",
    "    print(db)\n",
    "    \n",
    "db_cursor.execute(\"USE ps_ecommerce\")"
   ]
  },
  {
   "cell_type": "markdown",
   "metadata": {},
   "source": [
    "## Load Data to Mysql Tables"
   ]
  },
  {
   "cell_type": "code",
   "execution_count": 8,
   "metadata": {},
   "outputs": [],
   "source": [
    "def populate_table(db_connection, db_cursor, insert_query, file_path):\n",
    "    \n",
    "    with open(file_path, mode='r') as csv_data:\n",
    "        reader = csv.reader(csv_data, delimiter=';')\n",
    "        csv_data_list = list(reader)\n",
    "        for row in csv_data_list[1:]:\n",
    "            row = tuple(map(lambda x: None if x == \"\" else x, row[0].split(',')))\n",
    "            db_cursor.execute(insert_query, row)\n",
    "        \n",
    "    db_connection.commit()"
   ]
  },
  {
   "cell_type": "code",
   "execution_count": 9,
   "metadata": {},
   "outputs": [],
   "source": [
    "# create CUSTOMERS table\n",
    "'''db_cursor.execute(\"\"\"CREATE TABLE CUSTOMERS (customer_id VARCHAR(50) NOT NULL, \n",
    "                                          customer_unique_id VARCHAR(50) NOT NULL, \n",
    "                                          customer_zip_code_prefix VARCHAR(50), \n",
    "                                          customer_city VARCHAR(50), \n",
    "                                          customer_state VARCHAR(50))\"\"\")'''\n",
    "\n",
    "insert_customers = (\n",
    "    \"INSERT INTO CUSTOMERS(customer_id, customer_unique_id, customer_zip_code_prefix, customer_city, customer_state) \"\n",
    "    \"VALUES (%s, %s, %s, %s, %s)\"\n",
    ")\n",
    "\n",
    "populate_table(db_connection, db_cursor, insert_customers, \"customers.csv\")"
   ]
  },
  {
   "cell_type": "code",
   "execution_count": 10,
   "metadata": {},
   "outputs": [],
   "source": [
    "# create ORDER_PAYMENTS table\n",
    "db_cursor.execute(\"\"\"CREATE TABLE ORDER_PAYMENTS (order_id VARCHAR(50) NOT NULL, \n",
    "                                          payment_sequential INTEGER, \n",
    "                                          payment_type VARCHAR(50), \n",
    "                                          payment_installments INTEGER, \n",
    "                                          payment_value FLOAT)\"\"\")\n",
    "\n",
    "insert_orderpayments = (\n",
    "    \"INSERT INTO ORDER_PAYMENTS(order_id, payment_sequential, payment_type, payment_installments, payment_value) \"\n",
    "    \"VALUES (%s, %s, %s, %s, %s)\"\n",
    ")\n",
    "\n",
    "populate_table(db_connection, db_cursor, insert_orderpayments, \"order_payments.csv\")"
   ]
  },
  {
   "cell_type": "code",
   "execution_count": 11,
   "metadata": {},
   "outputs": [],
   "source": [
    "# create ORDER_ITEMS table\n",
    "db_cursor.execute(\"\"\"CREATE TABLE ORDER_ITEMS (order_id VARCHAR(50) NOT NULL, \n",
    "                                          order_item_id INTEGER, \n",
    "                                          product_id VARCHAR(50), \n",
    "                                          seller_id VARCHAR(50), \n",
    "                                          shipping_limit_date DATETIME,\n",
    "                                          price FLOAT,\n",
    "                                          freight_value FLOAT)\"\"\")\n",
    "\n",
    "insert_orderitems = (\n",
    "    \"INSERT INTO ORDER_ITEMS(order_id, order_item_id, product_id, seller_id, shipping_limit_date, price, freight_value) \"\n",
    "    \"VALUES (%s, %s, %s, %s, %s, %s, %s)\"\n",
    ")\n",
    "\n",
    "populate_table(db_connection, db_cursor, insert_orderitems, \"order_items.csv\")"
   ]
  },
  {
   "cell_type": "code",
   "execution_count": 12,
   "metadata": {},
   "outputs": [],
   "source": [
    "# create ORDERS table\n",
    "db_cursor.execute(\"\"\"CREATE TABLE ORDERS (order_id VARCHAR(50) NOT NULL, \n",
    "                                          customer_id VARCHAR(50) NOT NULL, \n",
    "                                          order_status VARCHAR(50), \n",
    "                                          order_purchase_timestamp DATETIME, \n",
    "                                          order_approved_at DATETIME,\n",
    "                                          order_delivered_carrier_date DATETIME,\n",
    "                                          order_delivered_customer_date DATETIME,\n",
    "                                          order_estimated_delivery_date DATETIME)\"\"\")\n",
    "\n",
    "insert_orders = (\n",
    "    \"INSERT INTO ORDERS(order_id, customer_id, order_status, order_purchase_timestamp, order_approved_at, order_delivered_carrier_date, order_delivered_customer_date, order_estimated_delivery_date) \"\n",
    "    \"VALUES (%s, %s, %s, %s, %s, %s, %s, %s)\"\n",
    ")\n",
    "\n",
    "populate_table(db_connection, db_cursor, insert_orders, \"orders.csv\")"
   ]
  },
  {
   "cell_type": "markdown",
   "metadata": {},
   "source": [
    "## Question 1 (10 pts)"
   ]
  },
  {
   "cell_type": "code",
   "execution_count": 4,
   "metadata": {},
   "outputs": [],
   "source": [
    "# Find the average number of weeks between products' actual delivery dates and estimated delivery dates. \n",
    "# Use order_delivered_customer_date column as actual delivery dates and \n",
    "# order_estimated_delivery_date column as estimated delivery dates.\n",
    "\n",
    "# HINT: There is a function in MySQL that makes it easy to compute the difference between two timestamps.\n",
    "# We recommend that you search for it online and use it in your answer."
   ]
  },
  {
   "cell_type": "code",
   "execution_count": 5,
   "metadata": {},
   "outputs": [],
   "source": [
    "# Solve Question 1 below\n",
    "db_cursor.execute(\"\"\"\n",
    "                    SELECT AVG(TIMESTAMPDIFF(WEEK,O.order_delivered_customer_date, o.order_estimated_delivery_date))\n",
    "                    FROM ORDERS O;\n",
    "                  \"\"\")\n",
    "average_weeks_query = db_cursor.fetchall()"
   ]
  },
  {
   "cell_type": "code",
   "execution_count": 6,
   "metadata": {},
   "outputs": [
    {
     "data": {
      "text/plain": [
       "1.1862"
      ]
     },
     "execution_count": 6,
     "metadata": {},
     "output_type": "execute_result"
    }
   ],
   "source": [
    "float(average_weeks_query[0][0])"
   ]
  },
  {
   "cell_type": "markdown",
   "metadata": {},
   "source": [
    "## Question 2 (15 pts)"
   ]
  },
  {
   "cell_type": "code",
   "execution_count": 7,
   "metadata": {},
   "outputs": [],
   "source": [
    "# Consider the ORDER_COSTS table below. Using this table and the CUSTOMERS table, find the following:\n",
    "# In which states do customers spend, on average, more than 164 on their orders? \n",
    "# Fetch those states and average order costs in those states. Results should be ordered from lowest cost to highest."
   ]
  },
  {
   "cell_type": "code",
   "execution_count": 8,
   "metadata": {},
   "outputs": [
    {
     "ename": "ProgrammingError",
     "evalue": "1050 (42S01): Table 'ORDER_COSTS' already exists",
     "output_type": "error",
     "traceback": [
      "\u001b[0;31m---------------------------------------------------------------------------\u001b[0m",
      "\u001b[0;31mProgrammingError\u001b[0m                          Traceback (most recent call last)",
      "\u001b[0;32m/var/folders/r1/c863rd0s631bj10dr15fdh_w0000gn/T/ipykernel_7010/1717158687.py\u001b[0m in \u001b[0;36m<module>\u001b[0;34m\u001b[0m\n\u001b[1;32m      8\u001b[0m                     \"\"\"\n\u001b[1;32m      9\u001b[0m \u001b[0;34m\u001b[0m\u001b[0m\n\u001b[0;32m---> 10\u001b[0;31m \u001b[0mdb_cursor\u001b[0m\u001b[0;34m.\u001b[0m\u001b[0mexecute\u001b[0m\u001b[0;34m(\u001b[0m\u001b[0morder_costs_query\u001b[0m\u001b[0;34m)\u001b[0m\u001b[0;34m\u001b[0m\u001b[0;34m\u001b[0m\u001b[0m\n\u001b[0m",
      "\u001b[0;32m/Library/Frameworks/Python.framework/Versions/3.9/lib/python3.9/site-packages/mysql/connector/cursor.py\u001b[0m in \u001b[0;36mexecute\u001b[0;34m(self, operation, params, multi)\u001b[0m\n\u001b[1;32m    570\u001b[0m \u001b[0;34m\u001b[0m\u001b[0m\n\u001b[1;32m    571\u001b[0m         \u001b[0;32mtry\u001b[0m\u001b[0;34m:\u001b[0m\u001b[0;34m\u001b[0m\u001b[0;34m\u001b[0m\u001b[0m\n\u001b[0;32m--> 572\u001b[0;31m             \u001b[0mself\u001b[0m\u001b[0;34m.\u001b[0m\u001b[0m_handle_result\u001b[0m\u001b[0;34m(\u001b[0m\u001b[0mself\u001b[0m\u001b[0;34m.\u001b[0m\u001b[0m_connection\u001b[0m\u001b[0;34m.\u001b[0m\u001b[0mcmd_query\u001b[0m\u001b[0;34m(\u001b[0m\u001b[0mstmt\u001b[0m\u001b[0;34m)\u001b[0m\u001b[0;34m)\u001b[0m\u001b[0;34m\u001b[0m\u001b[0;34m\u001b[0m\u001b[0m\n\u001b[0m\u001b[1;32m    573\u001b[0m         \u001b[0;32mexcept\u001b[0m \u001b[0merrors\u001b[0m\u001b[0;34m.\u001b[0m\u001b[0mInterfaceError\u001b[0m\u001b[0;34m:\u001b[0m\u001b[0;34m\u001b[0m\u001b[0;34m\u001b[0m\u001b[0m\n\u001b[1;32m    574\u001b[0m             \u001b[0;32mif\u001b[0m \u001b[0mself\u001b[0m\u001b[0;34m.\u001b[0m\u001b[0m_connection\u001b[0m\u001b[0;34m.\u001b[0m\u001b[0m_have_next_result\u001b[0m\u001b[0;34m:\u001b[0m  \u001b[0;31m# pylint: disable=W0212\u001b[0m\u001b[0;34m\u001b[0m\u001b[0;34m\u001b[0m\u001b[0m\n",
      "\u001b[0;32m/Library/Frameworks/Python.framework/Versions/3.9/lib/python3.9/site-packages/mysql/connector/connection.py\u001b[0m in \u001b[0;36mcmd_query\u001b[0;34m(self, query, raw, buffered, raw_as_string)\u001b[0m\n\u001b[1;32m    920\u001b[0m         \u001b[0mquery\u001b[0m \u001b[0;34m=\u001b[0m \u001b[0mbytes\u001b[0m\u001b[0;34m(\u001b[0m\u001b[0mpacket\u001b[0m\u001b[0;34m)\u001b[0m\u001b[0;34m\u001b[0m\u001b[0;34m\u001b[0m\u001b[0m\n\u001b[1;32m    921\u001b[0m         \u001b[0;32mtry\u001b[0m\u001b[0;34m:\u001b[0m\u001b[0;34m\u001b[0m\u001b[0;34m\u001b[0m\u001b[0m\n\u001b[0;32m--> 922\u001b[0;31m             \u001b[0mresult\u001b[0m \u001b[0;34m=\u001b[0m \u001b[0mself\u001b[0m\u001b[0;34m.\u001b[0m\u001b[0m_handle_result\u001b[0m\u001b[0;34m(\u001b[0m\u001b[0mself\u001b[0m\u001b[0;34m.\u001b[0m\u001b[0m_send_cmd\u001b[0m\u001b[0;34m(\u001b[0m\u001b[0mServerCmd\u001b[0m\u001b[0;34m.\u001b[0m\u001b[0mQUERY\u001b[0m\u001b[0;34m,\u001b[0m \u001b[0mquery\u001b[0m\u001b[0;34m)\u001b[0m\u001b[0;34m)\u001b[0m\u001b[0;34m\u001b[0m\u001b[0;34m\u001b[0m\u001b[0m\n\u001b[0m\u001b[1;32m    923\u001b[0m         \u001b[0;32mexcept\u001b[0m \u001b[0merrors\u001b[0m\u001b[0;34m.\u001b[0m\u001b[0mProgrammingError\u001b[0m \u001b[0;32mas\u001b[0m \u001b[0merr\u001b[0m\u001b[0;34m:\u001b[0m\u001b[0;34m\u001b[0m\u001b[0;34m\u001b[0m\u001b[0m\n\u001b[1;32m    924\u001b[0m             \u001b[0;32mif\u001b[0m \u001b[0merr\u001b[0m\u001b[0;34m.\u001b[0m\u001b[0merrno\u001b[0m \u001b[0;34m==\u001b[0m \u001b[0;36m3948\u001b[0m \u001b[0;32mand\u001b[0m\u001b[0;31m \u001b[0m\u001b[0;31m\\\u001b[0m\u001b[0;34m\u001b[0m\u001b[0;34m\u001b[0m\u001b[0m\n",
      "\u001b[0;32m/Library/Frameworks/Python.framework/Versions/3.9/lib/python3.9/site-packages/mysql/connector/connection.py\u001b[0m in \u001b[0;36m_handle_result\u001b[0;34m(self, packet)\u001b[0m\n\u001b[1;32m    730\u001b[0m             \u001b[0;32mreturn\u001b[0m \u001b[0mself\u001b[0m\u001b[0;34m.\u001b[0m\u001b[0m_handle_eof\u001b[0m\u001b[0;34m(\u001b[0m\u001b[0mpacket\u001b[0m\u001b[0;34m)\u001b[0m\u001b[0;34m\u001b[0m\u001b[0;34m\u001b[0m\u001b[0m\n\u001b[1;32m    731\u001b[0m         \u001b[0;32melif\u001b[0m \u001b[0mpacket\u001b[0m\u001b[0;34m[\u001b[0m\u001b[0;36m4\u001b[0m\u001b[0;34m]\u001b[0m \u001b[0;34m==\u001b[0m \u001b[0;36m255\u001b[0m\u001b[0;34m:\u001b[0m\u001b[0;34m\u001b[0m\u001b[0;34m\u001b[0m\u001b[0m\n\u001b[0;32m--> 732\u001b[0;31m             \u001b[0;32mraise\u001b[0m \u001b[0merrors\u001b[0m\u001b[0;34m.\u001b[0m\u001b[0mget_exception\u001b[0m\u001b[0;34m(\u001b[0m\u001b[0mpacket\u001b[0m\u001b[0;34m)\u001b[0m\u001b[0;34m\u001b[0m\u001b[0;34m\u001b[0m\u001b[0m\n\u001b[0m\u001b[1;32m    733\u001b[0m \u001b[0;34m\u001b[0m\u001b[0m\n\u001b[1;32m    734\u001b[0m         \u001b[0;31m# We have a text result set\u001b[0m\u001b[0;34m\u001b[0m\u001b[0;34m\u001b[0m\u001b[0;34m\u001b[0m\u001b[0m\n",
      "\u001b[0;31mProgrammingError\u001b[0m: 1050 (42S01): Table 'ORDER_COSTS' already exists"
     ]
    }
   ],
   "source": [
    "order_costs_query = \"\"\"\n",
    "                    CREATE TABLE ORDER_COSTS AS (\n",
    "                        SELECT ORDERS.order_id, SUM(price) AS cost, ORDERS.customer_id as cid\n",
    "                        FROM ORDER_ITEMS \n",
    "                             JOIN ORDERS\n",
    "                             ON ORDER_ITEMS.order_id=ORDERS.order_id\n",
    "                        GROUP BY order_id, ORDERS.customer_id)\n",
    "                    \"\"\"\n",
    "\n",
    "db_cursor.execute(order_costs_query)"
   ]
  },
  {
   "cell_type": "code",
   "execution_count": 9,
   "metadata": {},
   "outputs": [],
   "source": [
    "# Solve Question 2 below\n",
    "db_cursor.execute(\"\"\"\n",
    "                    SELECT c.customer_state, AVG(oc.cost)\n",
    "                    FROM ORDER_COSTS oc, CUSTOMERS c\n",
    "                    WHERE   oc.cid=c.customer_id\n",
    "                    GROUP BY c.customer_state\n",
    "                    HAVING AVG(oc.cost)>164\n",
    "                    ORDER BY AVG(oc.cost) ASC\n",
    "                  \"\"\")\n",
    "average_order_costs_query = db_cursor.fetchall()"
   ]
  },
  {
   "cell_type": "code",
   "execution_count": 10,
   "metadata": {},
   "outputs": [
    {
     "data": {
      "text/plain": [
       "[('PE', 165.95715586927687),\n",
       " ('RN', 168.72618171229507),\n",
       " ('MS', 173.50979253761005),\n",
       " ('TO', 179.9429249493581),\n",
       " ('PA', 182.85564198849806),\n",
       " ('MT', 184.82068734097837),\n",
       " ('AL', 202.31006200565315),\n",
       " ('RO', 217.85388387291178),\n",
       " ('PB', 222.1680950891404),\n",
       " ('AC', 224.56719970703125),\n",
       " ('RR', 279.38705960442036)]"
      ]
     },
     "execution_count": 10,
     "metadata": {},
     "output_type": "execute_result"
    }
   ],
   "source": [
    "average_order_costs_query"
   ]
  },
  {
   "cell_type": "markdown",
   "metadata": {},
   "source": [
    "## Question 3 (15 pts)"
   ]
  },
  {
   "cell_type": "code",
   "execution_count": 11,
   "metadata": {},
   "outputs": [],
   "source": [
    "# Implement the following function get_month. It takes as input a month as an integer.\n",
    "# It needs to compute: In the given month, how many payments were made with each different payment type?\n",
    "# e.g.: Credit card -> 5000 payments, debit card -> 100 payments, voucher -> 300 payments, ...\n",
    "\n",
    "# HINT: One of the MySQL functions we covered in the PS makes it easy to work with months."
   ]
  },
  {
   "cell_type": "code",
   "execution_count": 12,
   "metadata": {},
   "outputs": [],
   "source": [
    "# Solve Question 3 below\n",
    "\n",
    "def get_month(month):\n",
    "    \n",
    "    query = f\"\"\"SELECT DISTINCT op.payment_type, COUNT(*) \n",
    "    FROM ORDER_PAYMENTS op, ORDERS o \n",
    "    WHERE op.order_id=o.order_id AND MONTH(o.order_purchase_timestamp)={month} \n",
    "    GROUP BY op.payment_type\"\"\"\n",
    "    \n",
    "    \n",
    "    db_cursor.execute(query)\n",
    "    items = db_cursor.fetchall()\n",
    "    result = \"\"\n",
    "    for i in range(len(items)):\n",
    "        result += items[i][0] + \" -> \" + str(items[i][1]) + \"\\n\"\n",
    "    return result"
   ]
  },
  {
   "cell_type": "code",
   "execution_count": 13,
   "metadata": {},
   "outputs": [
    {
     "name": "stdout",
     "output_type": "stream",
     "text": [
      "credit_card -> 6609\n",
      "boleto -> 1723\n",
      "voucher -> 424\n",
      "debit_card -> 82\n",
      "\n"
     ]
    }
   ],
   "source": [
    "# Here is a sample function call for get_month:\n",
    "print(get_month(\"2\"))"
   ]
  },
  {
   "cell_type": "markdown",
   "metadata": {},
   "source": [
    "## Question 4 (10 pts)"
   ]
  },
  {
   "cell_type": "code",
   "execution_count": 14,
   "metadata": {},
   "outputs": [],
   "source": [
    "# Consider the PRODUCTS table below and the ORDER_ITEMS table from earlier. \n",
    "# For each product category other than {\"moveis_decoracao\", \"beleza_saude\"}, find the minimum price that was paid for\n",
    "# an item from that category. Limit the result to retrieve only 6 rows.\n",
    "\n",
    "# The result should be like: category1 -> minprice1, category2 -> minprice2, ..."
   ]
  },
  {
   "cell_type": "code",
   "execution_count": 15,
   "metadata": {},
   "outputs": [
    {
     "ename": "NameError",
     "evalue": "name 'populate_table' is not defined",
     "output_type": "error",
     "traceback": [
      "\u001b[0;31m---------------------------------------------------------------------------\u001b[0m",
      "\u001b[0;31mNameError\u001b[0m                                 Traceback (most recent call last)",
      "\u001b[0;32m/var/folders/r1/c863rd0s631bj10dr15fdh_w0000gn/T/ipykernel_7010/1200476720.py\u001b[0m in \u001b[0;36m<module>\u001b[0;34m\u001b[0m\n\u001b[1;32m     14\u001b[0m )\n\u001b[1;32m     15\u001b[0m \u001b[0;34m\u001b[0m\u001b[0m\n\u001b[0;32m---> 16\u001b[0;31m \u001b[0mpopulate_table\u001b[0m\u001b[0;34m(\u001b[0m\u001b[0mdb_connection\u001b[0m\u001b[0;34m,\u001b[0m \u001b[0mdb_cursor\u001b[0m\u001b[0;34m,\u001b[0m \u001b[0minsert_products\u001b[0m\u001b[0;34m,\u001b[0m \u001b[0;34m\"products.csv\"\u001b[0m\u001b[0;34m)\u001b[0m\u001b[0;34m\u001b[0m\u001b[0;34m\u001b[0m\u001b[0m\n\u001b[0m",
      "\u001b[0;31mNameError\u001b[0m: name 'populate_table' is not defined"
     ]
    }
   ],
   "source": [
    "'''db_cursor.execute(\"\"\"CREATE TABLE PRODUCTS (product_id VARCHAR(50) NOT NULL, \n",
    "                                            product_category_name VARCHAR(50), \n",
    "                                            product_name_lenght INTEGER, \n",
    "                                            product_description_lenght INTEGER, \n",
    "                                            product_photos_qty INTEGER,\n",
    "                                            product_weight_g INTEGER,\n",
    "                                            product_length_cm INTEGER,\n",
    "                                            product_height_cm INTEGER,\n",
    "                                            product_width_cm INTEGER)\"\"\")'''\n",
    "\n",
    "insert_products = (\n",
    "    \"INSERT INTO PRODUCTS(product_id, product_category_name, product_name_lenght, product_description_lenght, product_photos_qty, product_weight_g, product_length_cm,  product_height_cm, product_width_cm) \"\n",
    "    \"VALUES (%s, %s, %s, %s, %s, %s, %s, %s, %s)\"\n",
    ")\n",
    "\n",
    "populate_table(db_connection, db_cursor, insert_products, \"products.csv\")"
   ]
  },
  {
   "cell_type": "code",
   "execution_count": 16,
   "metadata": {},
   "outputs": [],
   "source": [
    "# Solve Question 4 below\n",
    "db_cursor.execute(\"\"\"\n",
    "                    SELECT p.product_category_name ,MIN(oi.price)\n",
    "FROM PRODUCTS p, ORDER_ITEMS oi\n",
    "WHERE p.product_id=oi.product_id\n",
    "GROUP BY p.product_category_name\n",
    "HAVING p.product_category_name!='moveis_decoracao' AND p.product_category_name!='beleza_saude'\n",
    "LIMIT 6\n",
    "                  \"\"\")\n",
    "mpec = db_cursor.fetchall()\n",
    "category_name, min_price = map(list, zip(*mpec))\n",
    "mpec_result = \"\"\n",
    "for i in range(len(mpec)):\n",
    "    mpec_result += mpec[i][0] + \" -> \" + str(mpec[i][1]) + \"\\n\""
   ]
  },
  {
   "cell_type": "code",
   "execution_count": 17,
   "metadata": {},
   "outputs": [
    {
     "name": "stdout",
     "output_type": "stream",
     "text": [
      "esporte_lazer -> 5.49\n",
      "utilidades_domesticas -> 4.4\n",
      "cama_mesa_banho -> 6.99\n",
      "informatica_acessorios -> 3.9\n",
      "relogios_presentes -> 8.99\n",
      "brinquedos -> 4.99\n",
      "\n"
     ]
    }
   ],
   "source": [
    "print(mpec_result)"
   ]
  },
  {
   "cell_type": "markdown",
   "metadata": {},
   "source": [
    "## Question 5 (10 pts)"
   ]
  },
  {
   "cell_type": "code",
   "execution_count": 18,
   "metadata": {},
   "outputs": [],
   "source": [
    "# Draw a pie chart using the data from the previous question.\n",
    "# Labels of your pie chart should be the product categories.\n",
    "# Contents of your pie chart (i.e., sizes of the pie slices) should be determined by the min prices."
   ]
  },
  {
   "cell_type": "code",
   "execution_count": 19,
   "metadata": {},
   "outputs": [
    {
     "data": {
      "image/png": "[encoded data removed]",
      "text/plain": [
       "<Figure size 432x288 with 1 Axes>"
      ]
     },
     "metadata": {},
     "output_type": "display_data"
    }
   ],
   "source": [
    "# Solve Question 5 below\n",
    "fig1, ax1 = plt.subplots()\n",
    "ax1.pie(min_price, labels=category_name, autopct='%1.0f%%', shadow=True, startangle=40)\n",
    "ax1.axis('equal') \n",
    "plt.show()"
   ]
  },
  {
   "cell_type": "markdown",
   "metadata": {},
   "source": [
    "## Question 6 (15 pts)"
   ]
  },
  {
   "cell_type": "code",
   "execution_count": 20,
   "metadata": {},
   "outputs": [],
   "source": [
    "# Let us define \"large products\" as those products with weight > 400 and length > 10.\n",
    "# Some orders that contain a large product can have large discrepancies between their order_delivered_carrier_date and \n",
    "# order_delivered_customer_date. \n",
    "# Let us define \"strange orders that contain large products\" as those orders which contain a large product and the \n",
    "# difference between their order_delivered_carrier_date and order_delivered_customer_date is larger than 100 days.\n",
    "\n",
    "# For all \"strange orders that contain large products\", find their order IDs and the number of days difference between \n",
    "# their order_delivered_carrier_date and order_delivered_customer_date.\n",
    "# Result should be like: \"abc21312df\" -> 32, \"dhs230kdf8\" -> 29, ...\n",
    "\n",
    "# HINT: Using the same MySQL function as Question 1 may help."
   ]
  },
  {
   "cell_type": "code",
   "execution_count": 21,
   "metadata": {},
   "outputs": [],
   "source": [
    "# Solve Question 6 below\n",
    "db_cursor.execute(\"\"\"\n",
    "                    SELECT o.order_id, TIMESTAMPDIFF(DAY, o.order_delivered_carrier_date, o.order_delivered_customer_date)\n",
    "                    FROM PRODUCTS p, ORDERS o, ORDER_ITEMS oi\n",
    "                    WHERE p.product_weight_g>400 AND p.product_length_cm>10 AND\n",
    "                    TIMESTAMPDIFF(DAY, o.order_delivered_carrier_date, o.order_delivered_customer_date)>100 \n",
    "                    AND p.product_id=oi.product_id AND o.order_id=oi.order_id\n",
    "                  \"\"\")\n",
    "laso = db_cursor.fetchall()\n",
    "order_id, day_diff = map(list, zip(*laso))\n",
    "laso_result = \"\"\n",
    "for i in range(len(laso)):\n",
    "    laso_result += laso[i][0] + \" -> \" + str(laso[i][1]) + \"\\n\""
   ]
  },
  {
   "cell_type": "code",
   "execution_count": 22,
   "metadata": {},
   "outputs": [
    {
     "name": "stdout",
     "output_type": "stream",
     "text": [
      "6e3a1f3ec46461756c3f620e267aa1b8 -> 103\n",
      "d24e8541128cea179a11a65176e0a96f -> 171\n",
      "3b919fbc512d96f81330d2aae3ed0cf6 -> 106\n",
      "0f4519c5f1c541ddec9f21b3bddd533a -> 181\n",
      "e52c9dfec957c503bed5d050a39c740f -> 102\n",
      "031e7d4e559a1bf08e71a419aa998d0a -> 165\n",
      "437222e3fd1b07396f1d9ba8c15fba59 -> 182\n",
      "525e11b26fdb7f41471d289897d0f6da -> 167\n",
      "47b40429ed8cce3aee9199792275433f -> 157\n",
      "1b3190b2dfa9d789e1f14c05b647a14a -> 205\n",
      "2ba1366baecad3c3536f27546d129017 -> 178\n",
      "dfe5f68118c2576143240b8d78e5940a -> 181\n",
      "0b32bf55276b5feb681f6ed6fd670692 -> 143\n",
      "d8dbb44d7c5b1fd8e7f41b49e27053d7 -> 104\n",
      "cce224811ba8fea016c049693c3e0402 -> 145\n",
      "6e82dcfb5eada6283dba34f164e636f5 -> 180\n",
      "160d1364f477494647a995f6bbec0b5f -> 104\n",
      "7e708aed151d6a8601ce8f2eaa712bf4 -> 134\n",
      "a4efaffc506a395c9cea7402b078c1e5 -> 103\n",
      "\n"
     ]
    }
   ],
   "source": [
    "print(laso_result)"
   ]
  },
  {
   "cell_type": "markdown",
   "metadata": {},
   "source": [
    "## Question 7 (10 pts)"
   ]
  },
  {
   "cell_type": "code",
   "execution_count": 23,
   "metadata": {},
   "outputs": [],
   "source": [
    "# Draw a bar chart using the data from the previous question.\n",
    "# Order IDs should be on the x-axis.\n",
    "# Number of days difference should be on the y-axis.\n",
    "# (Although we are not looking for production quality figures, make sure that your plots are readable.)"
   ]
  },
  {
   "cell_type": "code",
   "execution_count": 24,
   "metadata": {},
   "outputs": [
    {
     "data": {
      "image/png": "[encoded data removed]",
      "text/plain": [
       "<Figure size 432x288 with 1 Axes>"
      ]
     },
     "metadata": {
      "needs_background": "light"
     },
     "output_type": "display_data"
    }
   ],
   "source": [
    "# Solve Question 7 below\n",
    "fig = plt.figure()\n",
    "ax = fig.add_axes([0,0,1,1])\n",
    "ax.bar(order_id, day_diff)\n",
    "plt.setp(ax.get_xticklabels(), rotation=30, horizontalalignment='right')\n",
    "plt.show()"
   ]
  },
  {
   "cell_type": "markdown",
   "metadata": {},
   "source": [
    "## Question 8 (15 pts)"
   ]
  },
  {
   "cell_type": "code",
   "execution_count": 25,
   "metadata": {},
   "outputs": [],
   "source": [
    "# Write an SQL query to find the total number of orders per week day, e.g., Monday -> 150 orders, Tuesday -> 200 orders,\n",
    "# Wednesday -> 500 orders, etc. Use the \"order_purchase_timestamp\" attribute when counting the number of orders.\n",
    "# Plot the result using a bar chart (days of week on x-axis, number of orders on y-axis). \n",
    "\n",
    "# HINT: Check out the \"WEEKDAY\" function of MySQL. "
   ]
  },
  {
   "cell_type": "code",
   "execution_count": 26,
   "metadata": {},
   "outputs": [],
   "source": [
    "# Solve Question 8 below\n",
    "db_cursor.execute(\"\"\"\n",
    "                    SELECT WEEKDAY(o.order_purchase_timestamp), COUNT(*)\n",
    "FROM ORDERS o\n",
    "GROUP BY WEEKDAY(o.order_purchase_timestamp)\n",
    "                  \"\"\")\n",
    "order_number_each_day = db_cursor.fetchall()\n",
    "weekday, order_number = map(list, zip(*order_number_each_day))\n",
    "valuemap = {}\n",
    "days = ['Monday','Tuesday','Wednesday','Thursday','Friday','Saturday','Sunday']\n",
    "for i in range(len(weekday)):\n",
    "    valuemap[weekday[i]] = order_number[i]\n",
    "valuemap = dict(sorted(valuemap.items(), key=lambda item: item[1]))\n",
    "for i in range(len(valuemap)):\n",
    "    valuemap[days[i]] = valuemap.pop(i)"
   ]
  },
  {
   "cell_type": "code",
   "execution_count": 27,
   "metadata": {},
   "outputs": [
    {
     "data": {
      "image/png": "[encoded data removed]",
      "text/plain": [
       "<Figure size 432x288 with 1 Axes>"
      ]
     },
     "metadata": {
      "needs_background": "light"
     },
     "output_type": "display_data"
    }
   ],
   "source": [
    "fig = plt.figure()\n",
    "ax = fig.add_axes([0,0,1,1])\n",
    "ax.bar(list(valuemap.keys()), list(valuemap.values()))\n",
    "plt.setp(ax.get_xticklabels(), rotation=30, horizontalalignment='right')\n",
    "plt.show()"
   ]
  },
  {
   "cell_type": "code",
   "execution_count": 28,
   "metadata": {},
   "outputs": [],
   "source": [
    "db_cursor.close()\n",
    "db_connection.close()"
   ]
  },
  {
   "cell_type": "code",
   "execution_count": null,
   "metadata": {},
   "outputs": [],
   "source": []
  }
 ],
 "metadata": {
  "kernelspec": {
   "display_name": "Python 3 (ipykernel)",
   "language": "python",
   "name": "python3"
  },
  "language_info": {
   "codemirror_mode": {
    "name": "ipython",
    "version": 3
   },
   "file_extension": ".py",
   "mimetype": "text/x-python",
   "name": "python",
   "nbconvert_exporter": "python",
   "pygments_lexer": "ipython3",
   "version": "3.9.5"
  }
 },
 "nbformat": 4,
 "nbformat_minor": 4
}
